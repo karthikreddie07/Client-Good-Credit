{
 "cells": [
  {
   "cell_type": "code",
   "execution_count": 1,
   "id": "0cbc1624",
   "metadata": {},
   "outputs": [],
   "source": [
    "# Import necessary libraries"
   ]
  },
  {
   "cell_type": "code",
   "execution_count": 1,
   "id": "6a56fc87-7145-44e1-bee6-f7d1341d2d29",
   "metadata": {},
   "outputs": [
    {
     "name": "stdout",
     "output_type": "stream",
     "text": [
      "Requirement already satisfied: tensorflow in c:\\users\\reddi\\anaconda3\\lib\\site-packages (2.18.0)\n",
      "Requirement already satisfied: pandas in c:\\users\\reddi\\anaconda3\\lib\\site-packages (2.1.4)\n",
      "Collecting pandas\n",
      "  Downloading pandas-2.2.3-cp311-cp311-win_amd64.whl.metadata (19 kB)\n",
      "Requirement already satisfied: numpy in c:\\users\\reddi\\anaconda3\\lib\\site-packages (1.26.4)\n",
      "Collecting numpy\n",
      "  Downloading numpy-2.2.2-cp311-cp311-win_amd64.whl.metadata (60 kB)\n",
      "     ---------------------------------------- 0.0/60.8 kB ? eta -:--:--\n",
      "     ---------------------------------------- 0.0/60.8 kB ? eta -:--:--\n",
      "     ------ --------------------------------- 10.2/60.8 kB ? eta -:--:--\n",
      "     ------------------------- ------------ 41.0/60.8 kB 388.9 kB/s eta 0:00:01\n",
      "     -------------------------------------- 60.8/60.8 kB 460.0 kB/s eta 0:00:00\n",
      "Requirement already satisfied: tensorflow-intel==2.18.0 in c:\\users\\reddi\\anaconda3\\lib\\site-packages (from tensorflow) (2.18.0)\n",
      "Requirement already satisfied: absl-py>=1.0.0 in c:\\users\\reddi\\anaconda3\\lib\\site-packages (from tensorflow-intel==2.18.0->tensorflow) (2.1.0)\n",
      "Requirement already satisfied: astunparse>=1.6.0 in c:\\users\\reddi\\anaconda3\\lib\\site-packages (from tensorflow-intel==2.18.0->tensorflow) (1.6.3)\n",
      "Requirement already satisfied: flatbuffers>=24.3.25 in c:\\users\\reddi\\anaconda3\\lib\\site-packages (from tensorflow-intel==2.18.0->tensorflow) (24.3.25)\n",
      "Requirement already satisfied: gast!=0.5.0,!=0.5.1,!=0.5.2,>=0.2.1 in c:\\users\\reddi\\anaconda3\\lib\\site-packages (from tensorflow-intel==2.18.0->tensorflow) (0.6.0)\n",
      "Requirement already satisfied: google-pasta>=0.1.1 in c:\\users\\reddi\\anaconda3\\lib\\site-packages (from tensorflow-intel==2.18.0->tensorflow) (0.2.0)\n",
      "Requirement already satisfied: libclang>=13.0.0 in c:\\users\\reddi\\anaconda3\\lib\\site-packages (from tensorflow-intel==2.18.0->tensorflow) (18.1.1)\n",
      "Requirement already satisfied: opt-einsum>=2.3.2 in c:\\users\\reddi\\anaconda3\\lib\\site-packages (from tensorflow-intel==2.18.0->tensorflow) (3.4.0)\n",
      "Requirement already satisfied: packaging in c:\\users\\reddi\\anaconda3\\lib\\site-packages (from tensorflow-intel==2.18.0->tensorflow) (23.1)\n",
      "Requirement already satisfied: protobuf!=4.21.0,!=4.21.1,!=4.21.2,!=4.21.3,!=4.21.4,!=4.21.5,<6.0.0dev,>=3.20.3 in c:\\users\\reddi\\anaconda3\\lib\\site-packages (from tensorflow-intel==2.18.0->tensorflow) (3.20.3)\n",
      "Requirement already satisfied: requests<3,>=2.21.0 in c:\\users\\reddi\\anaconda3\\lib\\site-packages (from tensorflow-intel==2.18.0->tensorflow) (2.31.0)\n",
      "Requirement already satisfied: setuptools in c:\\users\\reddi\\anaconda3\\lib\\site-packages (from tensorflow-intel==2.18.0->tensorflow) (68.2.2)\n",
      "Requirement already satisfied: six>=1.12.0 in c:\\users\\reddi\\anaconda3\\lib\\site-packages (from tensorflow-intel==2.18.0->tensorflow) (1.16.0)\n",
      "Requirement already satisfied: termcolor>=1.1.0 in c:\\users\\reddi\\anaconda3\\lib\\site-packages (from tensorflow-intel==2.18.0->tensorflow) (2.5.0)\n",
      "Requirement already satisfied: typing-extensions>=3.6.6 in c:\\users\\reddi\\anaconda3\\lib\\site-packages (from tensorflow-intel==2.18.0->tensorflow) (4.9.0)\n",
      "Requirement already satisfied: wrapt>=1.11.0 in c:\\users\\reddi\\anaconda3\\lib\\site-packages (from tensorflow-intel==2.18.0->tensorflow) (1.14.1)\n",
      "Requirement already satisfied: grpcio<2.0,>=1.24.3 in c:\\users\\reddi\\anaconda3\\lib\\site-packages (from tensorflow-intel==2.18.0->tensorflow) (1.68.1)\n",
      "Requirement already satisfied: tensorboard<2.19,>=2.18 in c:\\users\\reddi\\anaconda3\\lib\\site-packages (from tensorflow-intel==2.18.0->tensorflow) (2.18.0)\n",
      "Requirement already satisfied: keras>=3.5.0 in c:\\users\\reddi\\anaconda3\\lib\\site-packages (from tensorflow-intel==2.18.0->tensorflow) (3.7.0)\n",
      "  Downloading numpy-2.0.2-cp311-cp311-win_amd64.whl.metadata (59 kB)\n",
      "     ---------------------------------------- 0.0/59.7 kB ? eta -:--:--\n",
      "     -------------------------- ----------- 41.0/59.7 kB 653.6 kB/s eta 0:00:01\n",
      "     -------------------------------------- 59.7/59.7 kB 785.7 kB/s eta 0:00:00\n",
      "Requirement already satisfied: h5py>=3.11.0 in c:\\users\\reddi\\anaconda3\\lib\\site-packages (from tensorflow-intel==2.18.0->tensorflow) (3.12.1)\n",
      "Requirement already satisfied: ml-dtypes<0.5.0,>=0.4.0 in c:\\users\\reddi\\anaconda3\\lib\\site-packages (from tensorflow-intel==2.18.0->tensorflow) (0.4.1)\n",
      "Requirement already satisfied: tensorflow-io-gcs-filesystem>=0.23.1 in c:\\users\\reddi\\anaconda3\\lib\\site-packages (from tensorflow-intel==2.18.0->tensorflow) (0.31.0)\n",
      "Requirement already satisfied: python-dateutil>=2.8.2 in c:\\users\\reddi\\anaconda3\\lib\\site-packages (from pandas) (2.8.2)\n",
      "Requirement already satisfied: pytz>=2020.1 in c:\\users\\reddi\\anaconda3\\lib\\site-packages (from pandas) (2023.3.post1)\n",
      "Requirement already satisfied: tzdata>=2022.7 in c:\\users\\reddi\\anaconda3\\lib\\site-packages (from pandas) (2023.3)\n",
      "Requirement already satisfied: wheel<1.0,>=0.23.0 in c:\\users\\reddi\\anaconda3\\lib\\site-packages (from astunparse>=1.6.0->tensorflow-intel==2.18.0->tensorflow) (0.41.2)\n",
      "Requirement already satisfied: rich in c:\\users\\reddi\\anaconda3\\lib\\site-packages (from keras>=3.5.0->tensorflow-intel==2.18.0->tensorflow) (13.3.5)\n",
      "Requirement already satisfied: namex in c:\\users\\reddi\\anaconda3\\lib\\site-packages (from keras>=3.5.0->tensorflow-intel==2.18.0->tensorflow) (0.0.8)\n",
      "Requirement already satisfied: optree in c:\\users\\reddi\\anaconda3\\lib\\site-packages (from keras>=3.5.0->tensorflow-intel==2.18.0->tensorflow) (0.13.1)\n",
      "Requirement already satisfied: charset-normalizer<4,>=2 in c:\\users\\reddi\\anaconda3\\lib\\site-packages (from requests<3,>=2.21.0->tensorflow-intel==2.18.0->tensorflow) (2.0.4)\n",
      "Requirement already satisfied: idna<4,>=2.5 in c:\\users\\reddi\\anaconda3\\lib\\site-packages (from requests<3,>=2.21.0->tensorflow-intel==2.18.0->tensorflow) (3.4)\n",
      "Requirement already satisfied: urllib3<3,>=1.21.1 in c:\\users\\reddi\\anaconda3\\lib\\site-packages (from requests<3,>=2.21.0->tensorflow-intel==2.18.0->tensorflow) (2.0.7)\n",
      "Requirement already satisfied: certifi>=2017.4.17 in c:\\users\\reddi\\anaconda3\\lib\\site-packages (from requests<3,>=2.21.0->tensorflow-intel==2.18.0->tensorflow) (2024.2.2)\n",
      "Requirement already satisfied: markdown>=2.6.8 in c:\\users\\reddi\\anaconda3\\lib\\site-packages (from tensorboard<2.19,>=2.18->tensorflow-intel==2.18.0->tensorflow) (3.4.1)\n",
      "Requirement already satisfied: tensorboard-data-server<0.8.0,>=0.7.0 in c:\\users\\reddi\\anaconda3\\lib\\site-packages (from tensorboard<2.19,>=2.18->tensorflow-intel==2.18.0->tensorflow) (0.7.2)\n",
      "Requirement already satisfied: werkzeug>=1.0.1 in c:\\users\\reddi\\anaconda3\\lib\\site-packages (from tensorboard<2.19,>=2.18->tensorflow-intel==2.18.0->tensorflow) (2.2.3)\n",
      "Requirement already satisfied: MarkupSafe>=2.1.1 in c:\\users\\reddi\\anaconda3\\lib\\site-packages (from werkzeug>=1.0.1->tensorboard<2.19,>=2.18->tensorflow-intel==2.18.0->tensorflow) (2.1.3)\n",
      "Requirement already satisfied: markdown-it-py<3.0.0,>=2.2.0 in c:\\users\\reddi\\anaconda3\\lib\\site-packages (from rich->keras>=3.5.0->tensorflow-intel==2.18.0->tensorflow) (2.2.0)\n",
      "Requirement already satisfied: pygments<3.0.0,>=2.13.0 in c:\\users\\reddi\\anaconda3\\lib\\site-packages (from rich->keras>=3.5.0->tensorflow-intel==2.18.0->tensorflow) (2.15.1)\n",
      "Requirement already satisfied: mdurl~=0.1 in c:\\users\\reddi\\anaconda3\\lib\\site-packages (from markdown-it-py<3.0.0,>=2.2.0->rich->keras>=3.5.0->tensorflow-intel==2.18.0->tensorflow) (0.1.0)\n",
      "Downloading pandas-2.2.3-cp311-cp311-win_amd64.whl (11.6 MB)\n",
      "   ---------------------------------------- 0.0/11.6 MB ? eta -:--:--\n",
      "   ---------------------------------------- 0.1/11.6 MB 3.2 MB/s eta 0:00:04\n",
      "   ---------------------------------------- 0.1/11.6 MB 1.7 MB/s eta 0:00:07\n",
      "    --------------------------------------- 0.2/11.6 MB 1.4 MB/s eta 0:00:09\n",
      "    --------------------------------------- 0.2/11.6 MB 1.3 MB/s eta 0:00:10\n",
      "    --------------------------------------- 0.3/11.6 MB 1.4 MB/s eta 0:00:09\n",
      "   - -------------------------------------- 0.3/11.6 MB 1.3 MB/s eta 0:00:09\n",
      "   - -------------------------------------- 0.4/11.6 MB 1.3 MB/s eta 0:00:09\n",
      "   - -------------------------------------- 0.4/11.6 MB 1.3 MB/s eta 0:00:09\n",
      "   - -------------------------------------- 0.5/11.6 MB 1.3 MB/s eta 0:00:09\n",
      "   - -------------------------------------- 0.6/11.6 MB 1.3 MB/s eta 0:00:09\n",
      "   -- ------------------------------------- 0.6/11.6 MB 1.3 MB/s eta 0:00:09\n",
      "   -- ------------------------------------- 0.7/11.6 MB 1.3 MB/s eta 0:00:09\n",
      "   -- ------------------------------------- 0.8/11.6 MB 1.3 MB/s eta 0:00:09\n",
      "   -- ------------------------------------- 0.8/11.6 MB 1.3 MB/s eta 0:00:09\n",
      "   --- ------------------------------------ 0.9/11.6 MB 1.4 MB/s eta 0:00:08\n",
      "   --- ------------------------------------ 1.0/11.6 MB 1.4 MB/s eta 0:00:08\n",
      "   --- ------------------------------------ 1.0/11.6 MB 1.4 MB/s eta 0:00:08\n",
      "   --- ------------------------------------ 1.1/11.6 MB 1.4 MB/s eta 0:00:08\n",
      "   ---- ----------------------------------- 1.2/11.6 MB 1.4 MB/s eta 0:00:08\n",
      "   ---- ----------------------------------- 1.3/11.6 MB 1.4 MB/s eta 0:00:08\n",
      "   ---- ----------------------------------- 1.3/11.6 MB 1.4 MB/s eta 0:00:08\n",
      "   ---- ----------------------------------- 1.4/11.6 MB 1.4 MB/s eta 0:00:08\n",
      "   ---- ----------------------------------- 1.4/11.6 MB 1.4 MB/s eta 0:00:08\n",
      "   ---- ----------------------------------- 1.4/11.6 MB 1.4 MB/s eta 0:00:08\n",
      "   ---- ----------------------------------- 1.4/11.6 MB 1.4 MB/s eta 0:00:08\n",
      "   ---- ----------------------------------- 1.4/11.6 MB 1.4 MB/s eta 0:00:08\n",
      "   ---- ----------------------------------- 1.4/11.6 MB 1.2 MB/s eta 0:00:09\n",
      "   ----- ---------------------------------- 1.5/11.6 MB 1.2 MB/s eta 0:00:09\n",
      "   ----- ---------------------------------- 1.5/11.6 MB 1.1 MB/s eta 0:00:09\n",
      "   ----- ---------------------------------- 1.6/11.6 MB 1.1 MB/s eta 0:00:09\n",
      "   ----- ---------------------------------- 1.6/11.6 MB 1.2 MB/s eta 0:00:09\n",
      "   ----- ---------------------------------- 1.7/11.6 MB 1.2 MB/s eta 0:00:09\n",
      "   ------ --------------------------------- 1.8/11.6 MB 1.2 MB/s eta 0:00:09\n",
      "   ------ --------------------------------- 1.8/11.6 MB 1.2 MB/s eta 0:00:09\n",
      "   ------ --------------------------------- 1.9/11.6 MB 1.2 MB/s eta 0:00:09\n",
      "   ------ --------------------------------- 2.0/11.6 MB 1.2 MB/s eta 0:00:09\n",
      "   ------- -------------------------------- 2.0/11.6 MB 1.2 MB/s eta 0:00:08\n",
      "   ------- -------------------------------- 2.1/11.6 MB 1.2 MB/s eta 0:00:09\n",
      "   ------- -------------------------------- 2.1/11.6 MB 1.2 MB/s eta 0:00:08\n",
      "   ------- -------------------------------- 2.2/11.6 MB 1.2 MB/s eta 0:00:08\n",
      "   ------- -------------------------------- 2.3/11.6 MB 1.2 MB/s eta 0:00:08\n",
      "   ------- -------------------------------- 2.3/11.6 MB 1.2 MB/s eta 0:00:08\n",
      "   -------- ------------------------------- 2.3/11.6 MB 1.2 MB/s eta 0:00:08\n",
      "   -------- ------------------------------- 2.3/11.6 MB 1.2 MB/s eta 0:00:09\n",
      "   -------- ------------------------------- 2.4/11.6 MB 1.1 MB/s eta 0:00:09\n",
      "   -------- ------------------------------- 2.4/11.6 MB 1.1 MB/s eta 0:00:09\n",
      "   -------- ------------------------------- 2.4/11.6 MB 1.1 MB/s eta 0:00:09\n",
      "   -------- ------------------------------- 2.4/11.6 MB 1.1 MB/s eta 0:00:09\n",
      "   -------- ------------------------------- 2.5/11.6 MB 1.1 MB/s eta 0:00:09\n",
      "   -------- ------------------------------- 2.5/11.6 MB 1.1 MB/s eta 0:00:09\n",
      "   -------- ------------------------------- 2.5/11.6 MB 1.1 MB/s eta 0:00:09\n",
      "   -------- ------------------------------- 2.6/11.6 MB 1.1 MB/s eta 0:00:09\n",
      "   --------- ------------------------------ 2.7/11.6 MB 1.1 MB/s eta 0:00:09\n",
      "   --------- ------------------------------ 2.8/11.6 MB 1.1 MB/s eta 0:00:08\n",
      "   --------- ------------------------------ 2.8/11.6 MB 1.1 MB/s eta 0:00:08\n",
      "   ---------- ----------------------------- 2.9/11.6 MB 1.1 MB/s eta 0:00:08\n",
      "   ---------- ----------------------------- 3.1/11.6 MB 1.2 MB/s eta 0:00:08\n",
      "   ---------- ----------------------------- 3.2/11.6 MB 1.2 MB/s eta 0:00:08\n",
      "   ----------- ---------------------------- 3.3/11.6 MB 1.2 MB/s eta 0:00:08\n",
      "   ----------- ---------------------------- 3.3/11.6 MB 1.2 MB/s eta 0:00:07\n",
      "   ----------- ---------------------------- 3.4/11.6 MB 1.2 MB/s eta 0:00:07\n",
      "   ------------ --------------------------- 3.5/11.6 MB 1.2 MB/s eta 0:00:07\n",
      "   ------------ --------------------------- 3.6/11.6 MB 1.2 MB/s eta 0:00:07\n",
      "   ------------- -------------------------- 3.8/11.6 MB 1.3 MB/s eta 0:00:07\n",
      "   ------------- -------------------------- 3.9/11.6 MB 1.3 MB/s eta 0:00:06\n",
      "   ------------- -------------------------- 4.0/11.6 MB 1.3 MB/s eta 0:00:06\n",
      "   -------------- ------------------------- 4.1/11.6 MB 1.3 MB/s eta 0:00:06\n",
      "   -------------- ------------------------- 4.2/11.6 MB 1.3 MB/s eta 0:00:06\n",
      "   -------------- ------------------------- 4.2/11.6 MB 1.3 MB/s eta 0:00:06\n",
      "   -------------- ------------------------- 4.2/11.6 MB 1.3 MB/s eta 0:00:06\n",
      "   -------------- ------------------------- 4.2/11.6 MB 1.3 MB/s eta 0:00:06\n",
      "   -------------- ------------------------- 4.2/11.6 MB 1.3 MB/s eta 0:00:06\n",
      "   -------------- ------------------------- 4.3/11.6 MB 1.3 MB/s eta 0:00:06\n",
      "   -------------- ------------------------- 4.3/11.6 MB 1.3 MB/s eta 0:00:06\n",
      "   --------------- ------------------------ 4.4/11.6 MB 1.3 MB/s eta 0:00:06\n",
      "   --------------- ------------------------ 4.4/11.6 MB 1.3 MB/s eta 0:00:06\n",
      "   --------------- ------------------------ 4.5/11.6 MB 1.3 MB/s eta 0:00:06\n",
      "   --------------- ------------------------ 4.6/11.6 MB 1.3 MB/s eta 0:00:06\n",
      "   ---------------- ----------------------- 4.6/11.6 MB 1.3 MB/s eta 0:00:06\n",
      "   ---------------- ----------------------- 4.7/11.6 MB 1.3 MB/s eta 0:00:06\n",
      "   ---------------- ----------------------- 4.7/11.6 MB 1.3 MB/s eta 0:00:06\n",
      "   ---------------- ----------------------- 4.8/11.6 MB 1.3 MB/s eta 0:00:06\n",
      "   ---------------- ----------------------- 4.8/11.6 MB 1.2 MB/s eta 0:00:06\n",
      "   ---------------- ----------------------- 4.9/11.6 MB 1.2 MB/s eta 0:00:06\n",
      "   ---------------- ----------------------- 4.9/11.6 MB 1.3 MB/s eta 0:00:06\n",
      "   ----------------- ---------------------- 5.0/11.6 MB 1.3 MB/s eta 0:00:06\n",
      "   ----------------- ---------------------- 5.1/11.6 MB 1.3 MB/s eta 0:00:06\n",
      "   ----------------- ---------------------- 5.2/11.6 MB 1.3 MB/s eta 0:00:06\n",
      "   ------------------ --------------------- 5.3/11.6 MB 1.3 MB/s eta 0:00:06\n",
      "   ------------------ --------------------- 5.3/11.6 MB 1.3 MB/s eta 0:00:05\n",
      "   ------------------ --------------------- 5.4/11.6 MB 1.3 MB/s eta 0:00:05\n",
      "   ------------------- -------------------- 5.6/11.6 MB 1.3 MB/s eta 0:00:05\n",
      "   ------------------- -------------------- 5.6/11.6 MB 1.3 MB/s eta 0:00:05\n",
      "   ------------------- -------------------- 5.7/11.6 MB 1.3 MB/s eta 0:00:05\n",
      "   ------------------- -------------------- 5.8/11.6 MB 1.3 MB/s eta 0:00:05\n",
      "   -------------------- ------------------- 5.9/11.6 MB 1.3 MB/s eta 0:00:05\n",
      "   -------------------- ------------------- 6.0/11.6 MB 1.3 MB/s eta 0:00:05\n",
      "   -------------------- ------------------- 6.1/11.6 MB 1.3 MB/s eta 0:00:05\n",
      "   --------------------- ------------------ 6.1/11.6 MB 1.3 MB/s eta 0:00:05\n",
      "   --------------------- ------------------ 6.2/11.6 MB 1.3 MB/s eta 0:00:05\n",
      "   --------------------- ------------------ 6.2/11.6 MB 1.3 MB/s eta 0:00:05\n",
      "   --------------------- ------------------ 6.3/11.6 MB 1.3 MB/s eta 0:00:04\n",
      "   ---------------------- ----------------- 6.4/11.6 MB 1.3 MB/s eta 0:00:04\n",
      "   ---------------------- ----------------- 6.5/11.6 MB 1.3 MB/s eta 0:00:04\n",
      "   ---------------------- ----------------- 6.5/11.6 MB 1.3 MB/s eta 0:00:04\n",
      "   ---------------------- ----------------- 6.6/11.6 MB 1.3 MB/s eta 0:00:04\n",
      "   ----------------------- ---------------- 6.7/11.6 MB 1.4 MB/s eta 0:00:04\n",
      "   ----------------------- ---------------- 6.8/11.6 MB 1.4 MB/s eta 0:00:04\n",
      "   ----------------------- ---------------- 6.9/11.6 MB 1.4 MB/s eta 0:00:04\n",
      "   ------------------------ --------------- 7.1/11.6 MB 1.4 MB/s eta 0:00:04\n",
      "   ------------------------- -------------- 7.3/11.6 MB 1.4 MB/s eta 0:00:04\n",
      "   ------------------------- -------------- 7.4/11.6 MB 1.4 MB/s eta 0:00:03\n",
      "   ------------------------- -------------- 7.5/11.6 MB 1.4 MB/s eta 0:00:03\n",
      "   -------------------------- ------------- 7.7/11.6 MB 1.4 MB/s eta 0:00:03\n",
      "   -------------------------- ------------- 7.8/11.6 MB 1.5 MB/s eta 0:00:03\n",
      "   --------------------------- ------------ 8.0/11.6 MB 1.5 MB/s eta 0:00:03\n",
      "   ---------------------------- ----------- 8.2/11.6 MB 1.5 MB/s eta 0:00:03\n",
      "   ---------------------------- ----------- 8.3/11.6 MB 1.5 MB/s eta 0:00:03\n",
      "   ----------------------------- ---------- 8.4/11.6 MB 1.5 MB/s eta 0:00:03\n",
      "   ----------------------------- ---------- 8.6/11.6 MB 1.5 MB/s eta 0:00:02\n",
      "   ----------------------------- ---------- 8.7/11.6 MB 1.5 MB/s eta 0:00:02\n",
      "   ------------------------------ --------- 8.9/11.6 MB 1.6 MB/s eta 0:00:02\n",
      "   ------------------------------- -------- 9.1/11.6 MB 1.6 MB/s eta 0:00:02\n",
      "   ------------------------------- -------- 9.2/11.6 MB 1.6 MB/s eta 0:00:02\n",
      "   -------------------------------- ------- 9.4/11.6 MB 1.6 MB/s eta 0:00:02\n",
      "   --------------------------------- ------ 9.6/11.6 MB 1.6 MB/s eta 0:00:02\n",
      "   --------------------------------- ------ 9.8/11.6 MB 1.7 MB/s eta 0:00:02\n",
      "   ---------------------------------- ----- 9.9/11.6 MB 1.7 MB/s eta 0:00:02\n",
      "   ---------------------------------- ----- 10.0/11.6 MB 1.7 MB/s eta 0:00:01\n",
      "   ----------------------------------- ---- 10.2/11.6 MB 1.7 MB/s eta 0:00:01\n",
      "   ----------------------------------- ---- 10.3/11.6 MB 1.7 MB/s eta 0:00:01\n",
      "   ------------------------------------ --- 10.5/11.6 MB 1.7 MB/s eta 0:00:01\n",
      "   ------------------------------------ --- 10.7/11.6 MB 1.8 MB/s eta 0:00:01\n",
      "   ------------------------------------- -- 10.8/11.6 MB 1.8 MB/s eta 0:00:01\n",
      "   ------------------------------------- -- 11.0/11.6 MB 1.8 MB/s eta 0:00:01\n",
      "   -------------------------------------- - 11.2/11.6 MB 1.8 MB/s eta 0:00:01\n",
      "   ---------------------------------------  11.4/11.6 MB 1.8 MB/s eta 0:00:01\n",
      "   ---------------------------------------  11.6/11.6 MB 1.9 MB/s eta 0:00:01\n",
      "   ---------------------------------------  11.6/11.6 MB 1.9 MB/s eta 0:00:01\n",
      "   ---------------------------------------- 11.6/11.6 MB 1.9 MB/s eta 0:00:00\n",
      "Downloading numpy-2.0.2-cp311-cp311-win_amd64.whl (15.9 MB)\n",
      "   ---------------------------------------- 0.0/15.9 MB ? eta -:--:--\n",
      "   ---------------------------------------- 0.1/15.9 MB 3.4 MB/s eta 0:00:05\n",
      "   ---------------------------------------- 0.2/15.9 MB 2.6 MB/s eta 0:00:06\n",
      "    --------------------------------------- 0.3/15.9 MB 2.3 MB/s eta 0:00:07\n",
      "   - -------------------------------------- 0.4/15.9 MB 2.8 MB/s eta 0:00:06\n",
      "   - -------------------------------------- 0.6/15.9 MB 2.8 MB/s eta 0:00:06\n",
      "   -- ------------------------------------- 0.8/15.9 MB 3.3 MB/s eta 0:00:05\n",
      "   -- ------------------------------------- 1.0/15.9 MB 3.4 MB/s eta 0:00:05\n",
      "   -- ------------------------------------- 1.1/15.9 MB 3.3 MB/s eta 0:00:05\n",
      "   --- ------------------------------------ 1.3/15.9 MB 3.5 MB/s eta 0:00:05\n",
      "   --- ------------------------------------ 1.5/15.9 MB 3.4 MB/s eta 0:00:05\n",
      "   ---- ----------------------------------- 1.7/15.9 MB 3.5 MB/s eta 0:00:05\n",
      "   ---- ----------------------------------- 1.9/15.9 MB 3.6 MB/s eta 0:00:04\n",
      "   ----- ---------------------------------- 2.1/15.9 MB 3.6 MB/s eta 0:00:04\n",
      "   ----- ---------------------------------- 2.2/15.9 MB 3.5 MB/s eta 0:00:04\n",
      "   ------ --------------------------------- 2.4/15.9 MB 3.7 MB/s eta 0:00:04\n",
      "   ------ --------------------------------- 2.6/15.9 MB 3.7 MB/s eta 0:00:04\n",
      "   ------- -------------------------------- 2.8/15.9 MB 3.6 MB/s eta 0:00:04\n",
      "   ------- -------------------------------- 2.9/15.9 MB 3.7 MB/s eta 0:00:04\n",
      "   ------- -------------------------------- 3.1/15.9 MB 3.6 MB/s eta 0:00:04\n",
      "   -------- ------------------------------- 3.3/15.9 MB 3.6 MB/s eta 0:00:04\n",
      "   -------- ------------------------------- 3.4/15.9 MB 3.7 MB/s eta 0:00:04\n",
      "   --------- ------------------------------ 3.6/15.9 MB 3.7 MB/s eta 0:00:04\n",
      "   --------- ------------------------------ 3.6/15.9 MB 3.6 MB/s eta 0:00:04\n",
      "   --------- ------------------------------ 3.9/15.9 MB 3.6 MB/s eta 0:00:04\n",
      "   ---------- ----------------------------- 4.1/15.9 MB 3.6 MB/s eta 0:00:04\n",
      "   ---------- ----------------------------- 4.3/15.9 MB 3.6 MB/s eta 0:00:04\n",
      "   ----------- ---------------------------- 4.4/15.9 MB 3.6 MB/s eta 0:00:04\n",
      "   ----------- ---------------------------- 4.4/15.9 MB 3.6 MB/s eta 0:00:04\n",
      "   ----------- ---------------------------- 4.7/15.9 MB 3.6 MB/s eta 0:00:04\n",
      "   ------------ --------------------------- 4.8/15.9 MB 3.5 MB/s eta 0:00:04\n",
      "   ------------ --------------------------- 4.9/15.9 MB 3.5 MB/s eta 0:00:04\n",
      "   ------------ --------------------------- 5.1/15.9 MB 3.5 MB/s eta 0:00:04\n",
      "   ------------- -------------------------- 5.3/15.9 MB 3.5 MB/s eta 0:00:04\n",
      "   ------------- -------------------------- 5.4/15.9 MB 3.5 MB/s eta 0:00:03\n",
      "   ------------- -------------------------- 5.4/15.9 MB 3.5 MB/s eta 0:00:04\n",
      "   -------------- ------------------------- 5.7/15.9 MB 3.4 MB/s eta 0:00:03\n",
      "   -------------- ------------------------- 5.8/15.9 MB 3.5 MB/s eta 0:00:03\n",
      "   --------------- ------------------------ 6.1/15.9 MB 3.5 MB/s eta 0:00:03\n",
      "   --------------- ------------------------ 6.2/15.9 MB 3.5 MB/s eta 0:00:03\n",
      "   --------------- ------------------------ 6.3/15.9 MB 3.5 MB/s eta 0:00:03\n",
      "   ---------------- ----------------------- 6.5/15.9 MB 3.5 MB/s eta 0:00:03\n",
      "   ---------------- ----------------------- 6.6/15.9 MB 3.5 MB/s eta 0:00:03\n",
      "   ----------------- ---------------------- 6.8/15.9 MB 3.5 MB/s eta 0:00:03\n",
      "   ----------------- ---------------------- 6.9/15.9 MB 3.4 MB/s eta 0:00:03\n",
      "   ----------------- ---------------------- 7.0/15.9 MB 3.4 MB/s eta 0:00:03\n",
      "   ----------------- ---------------------- 7.0/15.9 MB 3.3 MB/s eta 0:00:03\n",
      "   ----------------- ---------------------- 7.1/15.9 MB 3.3 MB/s eta 0:00:03\n",
      "   ------------------ --------------------- 7.2/15.9 MB 3.2 MB/s eta 0:00:03\n",
      "   ------------------ --------------------- 7.2/15.9 MB 3.2 MB/s eta 0:00:03\n",
      "   ------------------ --------------------- 7.3/15.9 MB 3.2 MB/s eta 0:00:03\n",
      "   ------------------ --------------------- 7.5/15.9 MB 3.2 MB/s eta 0:00:03\n",
      "   ------------------- -------------------- 7.6/15.9 MB 3.2 MB/s eta 0:00:03\n",
      "   ------------------- -------------------- 7.7/15.9 MB 3.2 MB/s eta 0:00:03\n",
      "   ------------------- -------------------- 7.9/15.9 MB 3.2 MB/s eta 0:00:03\n",
      "   -------------------- ------------------- 8.0/15.9 MB 3.2 MB/s eta 0:00:03\n",
      "   -------------------- ------------------- 8.1/15.9 MB 3.2 MB/s eta 0:00:03\n",
      "   -------------------- ------------------- 8.2/15.9 MB 3.1 MB/s eta 0:00:03\n",
      "   -------------------- ------------------- 8.3/15.9 MB 3.1 MB/s eta 0:00:03\n",
      "   --------------------- ------------------ 8.4/15.9 MB 3.1 MB/s eta 0:00:03\n",
      "   --------------------- ------------------ 8.6/15.9 MB 3.1 MB/s eta 0:00:03\n",
      "   --------------------- ------------------ 8.7/15.9 MB 3.1 MB/s eta 0:00:03\n",
      "   ---------------------- ----------------- 8.8/15.9 MB 3.1 MB/s eta 0:00:03\n",
      "   ---------------------- ----------------- 8.9/15.9 MB 3.1 MB/s eta 0:00:03\n",
      "   ---------------------- ----------------- 9.0/15.9 MB 3.1 MB/s eta 0:00:03\n",
      "   ---------------------- ----------------- 9.0/15.9 MB 3.1 MB/s eta 0:00:03\n",
      "   ---------------------- ----------------- 9.0/15.9 MB 3.1 MB/s eta 0:00:03\n",
      "   ---------------------- ----------------- 9.0/15.9 MB 3.1 MB/s eta 0:00:03\n",
      "   ---------------------- ----------------- 9.0/15.9 MB 3.1 MB/s eta 0:00:03\n",
      "   ---------------------- ----------------- 9.0/15.9 MB 3.1 MB/s eta 0:00:03\n",
      "   ---------------------- ----------------- 9.0/15.9 MB 3.1 MB/s eta 0:00:03\n",
      "   ------------------------ --------------- 9.9/15.9 MB 3.0 MB/s eta 0:00:02\n",
      "   ------------------------- -------------- 10.0/15.9 MB 3.1 MB/s eta 0:00:02\n",
      "   ------------------------- -------------- 10.0/15.9 MB 3.1 MB/s eta 0:00:02\n",
      "   ------------------------- -------------- 10.0/15.9 MB 3.1 MB/s eta 0:00:02\n",
      "   ------------------------- -------------- 10.0/15.9 MB 3.1 MB/s eta 0:00:02\n",
      "   ------------------------- -------------- 10.0/15.9 MB 3.1 MB/s eta 0:00:02\n",
      "   ------------------------- -------------- 10.0/15.9 MB 2.8 MB/s eta 0:00:03\n",
      "   ------------------------- -------------- 10.1/15.9 MB 2.8 MB/s eta 0:00:03\n",
      "   ------------------------- -------------- 10.2/15.9 MB 2.8 MB/s eta 0:00:03\n",
      "   ------------------------- -------------- 10.3/15.9 MB 2.8 MB/s eta 0:00:03\n",
      "   -------------------------- ------------- 10.4/15.9 MB 2.8 MB/s eta 0:00:02\n",
      "   -------------------------- ------------- 10.6/15.9 MB 2.8 MB/s eta 0:00:02\n",
      "   -------------------------- ------------- 10.7/15.9 MB 2.8 MB/s eta 0:00:02\n",
      "   --------------------------- ------------ 11.0/15.9 MB 2.8 MB/s eta 0:00:02\n",
      "   ---------------------------- ----------- 11.2/15.9 MB 2.8 MB/s eta 0:00:02\n",
      "   ---------------------------- ----------- 11.4/15.9 MB 2.8 MB/s eta 0:00:02\n",
      "   ----------------------------- ---------- 11.6/15.9 MB 2.8 MB/s eta 0:00:02\n",
      "   ----------------------------- ---------- 11.8/15.9 MB 2.8 MB/s eta 0:00:02\n",
      "   ------------------------------ --------- 11.9/15.9 MB 2.8 MB/s eta 0:00:02\n",
      "   ------------------------------ --------- 12.1/15.9 MB 2.8 MB/s eta 0:00:02\n",
      "   ------------------------------- -------- 12.4/15.9 MB 2.8 MB/s eta 0:00:02\n",
      "   ------------------------------- -------- 12.6/15.9 MB 2.8 MB/s eta 0:00:02\n",
      "   -------------------------------- ------- 12.8/15.9 MB 2.8 MB/s eta 0:00:02\n",
      "   -------------------------------- ------- 13.0/15.9 MB 2.8 MB/s eta 0:00:02\n",
      "   --------------------------------- ------ 13.2/15.9 MB 2.9 MB/s eta 0:00:01\n",
      "   --------------------------------- ------ 13.3/15.9 MB 2.9 MB/s eta 0:00:01\n",
      "   ---------------------------------- ----- 13.6/15.9 MB 2.9 MB/s eta 0:00:01\n",
      "   ---------------------------------- ----- 13.8/15.9 MB 2.9 MB/s eta 0:00:01\n",
      "   ----------------------------------- ---- 14.0/15.9 MB 2.9 MB/s eta 0:00:01\n",
      "   ----------------------------------- ---- 14.1/15.9 MB 2.9 MB/s eta 0:00:01\n",
      "   ----------------------------------- ---- 14.3/15.9 MB 2.9 MB/s eta 0:00:01\n",
      "   ------------------------------------ --- 14.5/15.9 MB 2.9 MB/s eta 0:00:01\n",
      "   ------------------------------------- -- 14.8/15.9 MB 2.9 MB/s eta 0:00:01\n",
      "   ------------------------------------- -- 15.0/15.9 MB 2.9 MB/s eta 0:00:01\n",
      "   -------------------------------------- - 15.2/15.9 MB 3.0 MB/s eta 0:00:01\n",
      "   -------------------------------------- - 15.4/15.9 MB 3.0 MB/s eta 0:00:01\n",
      "   ---------------------------------------  15.6/15.9 MB 3.0 MB/s eta 0:00:01\n",
      "   ---------------------------------------  15.7/15.9 MB 3.0 MB/s eta 0:00:01\n",
      "   ---------------------------------------  15.9/15.9 MB 3.0 MB/s eta 0:00:01\n",
      "   ---------------------------------------  15.9/15.9 MB 3.0 MB/s eta 0:00:01\n",
      "   ---------------------------------------  15.9/15.9 MB 3.0 MB/s eta 0:00:01\n",
      "   ---------------------------------------- 15.9/15.9 MB 2.9 MB/s eta 0:00:00\n",
      "Installing collected packages: numpy, pandas\n",
      "  Attempting uninstall: numpy\n",
      "    Found existing installation: numpy 1.26.4\n",
      "    Uninstalling numpy-1.26.4:\n",
      "      Successfully uninstalled numpy-1.26.4\n",
      "  Attempting uninstall: pandas\n",
      "    Found existing installation: pandas 2.1.4\n",
      "    Uninstalling pandas-2.1.4:\n",
      "      Successfully uninstalled pandas-2.1.4\n",
      "Successfully installed numpy-2.0.2 pandas-2.2.3\n",
      "Note: you may need to restart the kernel to use updated packages.\n"
     ]
    },
    {
     "name": "stderr",
     "output_type": "stream",
     "text": [
      "  WARNING: Failed to remove contents in a temporary directory 'C:\\Users\\reddi\\AppData\\Local\\Temp\\pip-uninstall-jix2pp4c'.\n",
      "  You can safely remove it manually.\n",
      "ERROR: pip's dependency resolver does not currently take into account all the packages that are installed. This behaviour is the source of the following dependency conflicts.\n",
      "gensim 4.3.0 requires FuzzyTM>=0.4.0, which is not installed.\n",
      "astropy 5.3.4 requires numpy<2,>=1.21, but you have numpy 2.0.2 which is incompatible.\n",
      "contourpy 1.2.0 requires numpy<2.0,>=1.20, but you have numpy 2.0.2 which is incompatible.\n",
      "matplotlib 3.8.0 requires numpy<2,>=1.21, but you have numpy 2.0.2 which is incompatible.\n",
      "numba 0.59.0 requires numpy<1.27,>=1.22, but you have numpy 2.0.2 which is incompatible.\n",
      "pywavelets 1.5.0 requires numpy<2.0,>=1.22.4, but you have numpy 2.0.2 which is incompatible.\n",
      "scipy 1.11.4 requires numpy<1.28.0,>=1.21.6, but you have numpy 2.0.2 which is incompatible.\n",
      "streamlit 1.30.0 requires numpy<2,>=1.19.3, but you have numpy 2.0.2 which is incompatible.\n"
     ]
    }
   ],
   "source": [
    "pip install --upgrade tensorflow pandas numpy\n"
   ]
  },
  {
   "cell_type": "code",
   "execution_count": 2,
   "id": "a795d979",
   "metadata": {},
   "outputs": [],
   "source": [
    "import pandas as pd\n",
    "import numpy as np\n",
    "import matplotlib.pyplot as plt\n",
    "import seaborn as sns\n",
    "from sklearn.model_selection import train_test_split\n",
    "from sklearn.ensemble import RandomForestClassifier, GradientBoostingClassifier\n",
    "from sklearn.linear_model import LogisticRegression\n",
    "from sklearn.metrics import roc_auc_score, classification_report, confusion_matrix\n",
    "import mysql.connector\n",
    "import warnings\n",
    "warnings.filterwarnings('ignore')"
   ]
  },
  {
   "cell_type": "code",
   "execution_count": 3,
   "id": "c10833a4",
   "metadata": {},
   "outputs": [],
   "source": [
    "# Connect to MySQL database"
   ]
  },
  {
   "cell_type": "code",
   "execution_count": null,
   "id": "744f6214",
   "metadata": {},
   "outputs": [],
   "source": [
    "conn = mysql.connector.connect(\n",
    "    host='18.136.157.135',\n",
    "    user='dm_team1',\n",
    "    password='DM!$Team&279@20!',\n",
    "    database='project_banking'\n",
    ")"
   ]
  },
  {
   "cell_type": "code",
   "execution_count": null,
   "id": "4a17ba73",
   "metadata": {},
   "outputs": [],
   "source": [
    "# Load data from SQL tables"
   ]
  },
  {
   "cell_type": "code",
   "execution_count": null,
   "id": "f3350a3c",
   "metadata": {},
   "outputs": [],
   "source": [
    "query_account = 'SELECT * FROM Cust_Account'\n",
    "query_enquiry = 'SELECT * FROM Cust_Enquiry'\n",
    "query_demographics = 'SELECT * FROM Cust_Demographics'\n",
    "df_account = pd.read_sql(query_account, conn)\n",
    "df_enquiry = pd.read_sql(query_enquiry, conn)\n",
    "df_demographics = pd.read_sql(query_demographics, conn)\n",
    "conn.close()"
   ]
  },
  {
   "cell_type": "code",
   "execution_count": null,
   "id": "fba23a74",
   "metadata": {},
   "outputs": [],
   "source": [
    "# Merge datasets"
   ]
  },
  {
   "cell_type": "code",
   "execution_count": null,
   "id": "a87d7188",
   "metadata": {},
   "outputs": [],
   "source": [
    "merged_df = df_account.merge(df_enquiry, on='customer_no', how='left')\n",
    "merged_df = merged_df.merge(df_demographics, on='customer_no', how='left')\n",
    "merged_df.fillna(0, inplace=True)"
   ]
  },
  {
   "cell_type": "code",
   "execution_count": null,
   "id": "44fb1c7b",
   "metadata": {},
   "outputs": [],
   "source": [
    "# Convert date columns to datetime format"
   ]
  },
  {
   "cell_type": "code",
   "execution_count": null,
   "id": "4860c8dc",
   "metadata": {},
   "outputs": [],
   "source": [
    "date_columns = ['dt_opened_x', 'opened_dt', 'last_paymt_dt', 'closed_dt', 'reporting_dt', 'paymt_str_dt', 'paymt_end_dt', 'dt_opened_y', 'upload_dt_y', 'enquiry_dt']\n",
    "for col in date_columns:\n",
    "    merged_df[col] = pd.to_datetime(merged_df[col], errors='coerce')"
   ]
  },
  {
   "cell_type": "code",
   "execution_count": null,
   "id": "357d58b9",
   "metadata": {},
   "outputs": [],
   "source": [
    "# Data Exploration"
   ]
  },
  {
   "cell_type": "code",
   "execution_count": null,
   "id": "ce4eafd1",
   "metadata": {},
   "outputs": [],
   "source": [
    "print('Data Overview:')\n",
    "print(merged_df.info())\n",
    "print(merged_df.describe())"
   ]
  },
  {
   "cell_type": "code",
   "execution_count": null,
   "id": "a2fcb20c",
   "metadata": {},
   "outputs": [],
   "source": [
    "# Feature Engineering"
   ]
  },
  {
   "cell_type": "code",
   "execution_count": null,
   "id": "0acbfad8",
   "metadata": {},
   "outputs": [],
   "source": [
    "merged_df['credit_utilization'] = merged_df['cur_balance_amt'] / (merged_df['high_credit_amt'] + 1)\n",
    "merged_df['payment_gap'] = (merged_df['last_paymt_dt'] - merged_df['opened_dt']).dt.days\n",
    "merged_df['recent_enquiry_count'] = merged_df.groupby('customer_no')['enquiry_dt'].transform(lambda x: x.count())"
   ]
  },
  {
   "cell_type": "code",
   "execution_count": null,
   "id": "192d78de-625b-47ad-9c70-c2988adf1efa",
   "metadata": {},
   "outputs": [],
   "source": [
    "# Convert numeric columns to proper types\n",
    "numeric_cols = ['cur_balance_amt', 'high_credit_amt']\n",
    "merged_df[numeric_cols] = merged_df[numeric_cols].apply(pd.to_numeric, errors='coerce')"
   ]
  },
  {
   "cell_type": "code",
   "execution_count": null,
   "id": "983cce83",
   "metadata": {},
   "outputs": [],
   "source": [
    "# Feature Selection"
   ]
  },
  {
   "cell_type": "code",
   "execution_count": null,
   "id": "e223d0ed",
   "metadata": {},
   "outputs": [],
   "source": [
    "features = ['credit_utilization', 'payment_gap', 'recent_enquiry_count']\n",
    "target = 'Bad_label'\n",
    "X = merged_df[features]\n",
    "y = merged_df[target]"
   ]
  },
  {
   "cell_type": "code",
   "execution_count": null,
   "id": "b2d9a201",
   "metadata": {},
   "outputs": [],
   "source": [
    "# Train-test split"
   ]
  },
  {
   "cell_type": "code",
   "execution_count": null,
   "id": "d09fdc56",
   "metadata": {},
   "outputs": [],
   "source": [
    "X_train, X_test, y_train, y_test = train_test_split(X, y, test_size=0.2, random_state=42)"
   ]
  },
  {
   "cell_type": "code",
   "execution_count": null,
   "id": "71b0dcd1",
   "metadata": {},
   "outputs": [],
   "source": [
    "# Train multiple models"
   ]
  },
  {
   "cell_type": "code",
   "execution_count": null,
   "id": "c4db1552",
   "metadata": {},
   "outputs": [],
   "source": [
    "models = {\n",
    "    'Random Forest': RandomForestClassifier(n_estimators=50, random_state=42),\n",
    "    'Gradient Boosting': GradientBoostingClassifier(n_estimators=50, random_state=42),\n",
    "    'Logistic Regression': LogisticRegression()\n",
    "}"
   ]
  },
  {
   "cell_type": "code",
   "execution_count": null,
   "id": "560cbb1c",
   "metadata": {},
   "outputs": [],
   "source": [
    "model_performance = {}\n",
    "for name, model in models.items():\n",
    "    model.fit(X_train, y_train)\n",
    "    y_pred_proba = model.predict_proba(X_test)[:, 1]\n",
    "    roc_score = roc_auc_score(y_test, y_pred_proba)\n",
    "    gini_score = 2 * roc_score - 1\n",
    "    model_performance[name] = gini_score"
   ]
  },
  {
   "cell_type": "code",
   "execution_count": null,
   "id": "fb7b8e52",
   "metadata": {},
   "outputs": [],
   "source": [
    "# Identify best model"
   ]
  },
  {
   "cell_type": "code",
   "execution_count": null,
   "id": "023c378f",
   "metadata": {},
   "outputs": [],
   "source": [
    "best_model = max(model_performance, key=model_performance.get)"
   ]
  },
  {
   "cell_type": "code",
   "execution_count": null,
   "id": "b353c773",
   "metadata": {},
   "outputs": [],
   "source": [
    "# Make final predictions using best model"
   ]
  },
  {
   "cell_type": "code",
   "execution_count": null,
   "id": "f6756fb9",
   "metadata": {},
   "outputs": [],
   "source": [
    "best_model_instance = models[best_model]\n",
    "y_pred_proba = best_model_instance.predict_proba(X_test)[:, 1]\n",
    "y_pred = (y_pred_proba >= 0.5).astype(int)"
   ]
  },
  {
   "cell_type": "code",
   "execution_count": null,
   "id": "160e471e",
   "metadata": {},
   "outputs": [],
   "source": [
    "# Print evaluation results"
   ]
  },
  {
   "cell_type": "code",
   "execution_count": null,
   "id": "8b96b491",
   "metadata": {},
   "outputs": [],
   "source": [
    "print('Model Performance (Gini Scores):', model_performance)\n",
    "print('Best Model:', best_model)"
   ]
  },
  {
   "cell_type": "code",
   "execution_count": null,
   "id": "06e2079e",
   "metadata": {},
   "outputs": [],
   "source": [
    "# Feature Importance"
   ]
  },
  {
   "cell_type": "code",
   "execution_count": null,
   "id": "82089592",
   "metadata": {},
   "outputs": [],
   "source": [
    "if best_model in ['Random Forest', 'Gradient Boosting']:\n",
    "    feature_importance = pd.DataFrame({'Feature': features, 'Importance': best_model_instance.feature_importances_}).sort_values(by='Importance', ascending=False)\n",
    "    plt.figure(figsize=(8, 6))\n",
    "    sns.barplot(x=feature_importance['Importance'], y=feature_importance['Feature'])\n",
    "    plt.title(f'Feature Importance - {best_model}')\n",
    "    plt.show()"
   ]
  },
  {
   "cell_type": "code",
   "execution_count": null,
   "id": "2275533a",
   "metadata": {},
   "outputs": [],
   "source": [
    "# Print classification results"
   ]
  },
  {
   "cell_type": "code",
   "execution_count": null,
   "id": "e560e068",
   "metadata": {},
   "outputs": [],
   "source": [
    "print('Confusion Matrix:\\n', confusion_matrix(y_test, y_pred))\n",
    "print('Classification Report:\\n', classification_report(y_test, y_pred))"
   ]
  },
  {
   "cell_type": "code",
   "execution_count": null,
   "id": "7c31376a",
   "metadata": {},
   "outputs": [],
   "source": [
    "# Final Conclusion"
   ]
  },
  {
   "cell_type": "code",
   "execution_count": null,
   "id": "606cb8bd",
   "metadata": {},
   "outputs": [],
   "source": [
    "print('\\nFinal Conclusion:')\n",
    "print('1. The best-performing model is', best_model, 'with a Gini Score of', model_performance[best_model], '.')\n",
    "print('2. The key factors influencing credit risk are Credit Utilization, Payment Gap, and Recent Enquiry Count.')\n",
    "print('3. This model helps in predicting high-risk customers, allowing Bank GoodCredit to reduce credit default risk.')\n",
    "print('4. The results can be used for better decision-making in credit approvals and risk management.')"
   ]
  },
  {
   "cell_type": "code",
   "execution_count": null,
   "id": "4bc8895b-71e1-4ae9-8255-a3d793f642b0",
   "metadata": {},
   "outputs": [],
   "source": []
  },
  {
   "cell_type": "code",
   "execution_count": null,
   "id": "12b974a7-c041-4126-899d-badd356791d4",
   "metadata": {},
   "outputs": [],
   "source": []
  }
 ],
 "metadata": {
  "kernelspec": {
   "display_name": "Python 3 (ipykernel)",
   "language": "python",
   "name": "python3"
  },
  "language_info": {
   "codemirror_mode": {
    "name": "ipython",
    "version": 3
   },
   "file_extension": ".py",
   "mimetype": "text/x-python",
   "name": "python",
   "nbconvert_exporter": "python",
   "pygments_lexer": "ipython3",
   "version": "3.11.7"
  },
  "widgets": {
   "application/vnd.jupyter.widget-state+json": {
    "state": {},
    "version_major": 2,
    "version_minor": 0
   }
  }
 },
 "nbformat": 4,
 "nbformat_minor": 5
}
